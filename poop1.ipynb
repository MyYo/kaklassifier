{
 "cells": [
  {
   "cell_type": "code",
   "execution_count": 161,
   "metadata": {},
   "outputs": [],
   "source": [
    "from datetime import datetime, timedelta\n",
    "from matplotlib import pyplot as plt\n",
    "import numpy as np\n",
    "import pandas as pd\n",
    "import os\n",
    "import re\n",
    "import numpy as np\n",
    "from sklearn.ensemble import RandomForestClassifier\n",
    "from sklearn.model_selection import cross_val_score"
   ]
  },
  {
   "cell_type": "code",
   "execution_count": 162,
   "metadata": {},
   "outputs": [
    {
     "data": {
      "text/html": [
       "<div>\n",
       "<style scoped>\n",
       "    .dataframe tbody tr th:only-of-type {\n",
       "        vertical-align: middle;\n",
       "    }\n",
       "\n",
       "    .dataframe tbody tr th {\n",
       "        vertical-align: top;\n",
       "    }\n",
       "\n",
       "    .dataframe thead th {\n",
       "        text-align: right;\n",
       "    }\n",
       "</style>\n",
       "<table border=\"1\" class=\"dataframe\">\n",
       "  <thead>\n",
       "    <tr style=\"text-align: right;\">\n",
       "      <th></th>\n",
       "      <th>timestamp</th>\n",
       "      <th>can</th>\n",
       "      <th>sweet</th>\n",
       "      <th>golden</th>\n",
       "      <th>outcome</th>\n",
       "      <th>alone</th>\n",
       "      <th>accident</th>\n",
       "      <th>notes</th>\n",
       "    </tr>\n",
       "  </thead>\n",
       "  <tbody>\n",
       "    <tr>\n",
       "      <th>0</th>\n",
       "      <td>12/27/2018 8:57:58</td>\n",
       "      <td>2.0</td>\n",
       "      <td>1.0</td>\n",
       "      <td>1.0</td>\n",
       "      <td>NaN</td>\n",
       "      <td>NaN</td>\n",
       "      <td>NaN</td>\n",
       "      <td>NaN</td>\n",
       "    </tr>\n",
       "    <tr>\n",
       "      <th>1</th>\n",
       "      <td>12/27/2018 9:10:46</td>\n",
       "      <td>NaN</td>\n",
       "      <td>NaN</td>\n",
       "      <td>NaN</td>\n",
       "      <td>Regular</td>\n",
       "      <td>NaN</td>\n",
       "      <td>NaN</td>\n",
       "      <td>Outside</td>\n",
       "    </tr>\n",
       "    <tr>\n",
       "      <th>2</th>\n",
       "      <td>12/27/2018 12:41:22</td>\n",
       "      <td>2.0</td>\n",
       "      <td>1.0</td>\n",
       "      <td>1.0</td>\n",
       "      <td>NaN</td>\n",
       "      <td>NaN</td>\n",
       "      <td>NaN</td>\n",
       "      <td>NaN</td>\n",
       "    </tr>\n",
       "    <tr>\n",
       "      <th>3</th>\n",
       "      <td>12/27/2018 14:10:08</td>\n",
       "      <td>NaN</td>\n",
       "      <td>NaN</td>\n",
       "      <td>NaN</td>\n",
       "      <td>Regular</td>\n",
       "      <td>NaN</td>\n",
       "      <td>NaN</td>\n",
       "      <td>Outside</td>\n",
       "    </tr>\n",
       "    <tr>\n",
       "      <th>4</th>\n",
       "      <td>12/27/2018 14:14:35</td>\n",
       "      <td>NaN</td>\n",
       "      <td>NaN</td>\n",
       "      <td>NaN</td>\n",
       "      <td>NaN</td>\n",
       "      <td>NaN</td>\n",
       "      <td>NaN</td>\n",
       "      <td>Jake got 2 gabapentin at lunch and 2 at 2pm. O...</td>\n",
       "    </tr>\n",
       "  </tbody>\n",
       "</table>\n",
       "</div>"
      ],
      "text/plain": [
       "             timestamp  can  sweet  golden  outcome alone accident  \\\n",
       "0   12/27/2018 8:57:58  2.0    1.0     1.0      NaN   NaN      NaN   \n",
       "1   12/27/2018 9:10:46  NaN    NaN     NaN  Regular   NaN      NaN   \n",
       "2  12/27/2018 12:41:22  2.0    1.0     1.0      NaN   NaN      NaN   \n",
       "3  12/27/2018 14:10:08  NaN    NaN     NaN  Regular   NaN      NaN   \n",
       "4  12/27/2018 14:14:35  NaN    NaN     NaN      NaN   NaN      NaN   \n",
       "\n",
       "                                               notes  \n",
       "0                                                NaN  \n",
       "1                                           Outside   \n",
       "2                                                NaN  \n",
       "3                                           Outside   \n",
       "4  Jake got 2 gabapentin at lunch and 2 at 2pm. O...  "
      ]
     },
     "execution_count": 162,
     "metadata": {},
     "output_type": "execute_result"
    }
   ],
   "source": [
    "data_path = os.path.expanduser('Data/Data1.csv')\n",
    "df = pd.read_csv(data_path, comment='#')\n",
    "df.rename(columns={\n",
    "    'Timestamp': 'timestamp',\n",
    "    'Royal Canin Lowfat Can (13.6oz)': 'can',\n",
    "    'Sweet Potato (11.5oz)': 'sweet',\n",
    "    'Golden Potato (5.2oz)': 'golden',\n",
    "    'Outcome': 'outcome',\n",
    "    'Were We Sleeping / Jake Was Alone Just Before': 'alone',\n",
    "    'Was it an Accident?': 'accident',\n",
    "    'Notes': 'notes',\n",
    "    'Poop Event': 'poop',\n",
    "    'Feed Event': 'feed'\n",
    "}, inplace=True)\n",
    "df.head()"
   ]
  },
  {
   "cell_type": "code",
   "execution_count": 165,
   "metadata": {},
   "outputs": [
    {
     "name": "stdout",
     "output_type": "stream",
     "text": [
      "12/27/2018 8:57:58 2018-12-27 08:57:58\n"
     ]
    },
    {
     "ename": "ValueError",
     "evalue": "Invalid format string",
     "output_type": "error",
     "traceback": [
      "\u001b[1;31m---------------------------------------------------------------------------\u001b[0m",
      "\u001b[1;31mValueError\u001b[0m                                Traceback (most recent call last)",
      "\u001b[1;32m<ipython-input-165-bb26cb6bff9a>\u001b[0m in \u001b[0;36m<module>\u001b[1;34m\u001b[0m\n\u001b[0;32m      4\u001b[0m     \u001b[0mprint\u001b[0m\u001b[1;33m(\u001b[0m\u001b[0mt\u001b[0m\u001b[1;33m,\u001b[0m \u001b[0mdt\u001b[0m\u001b[1;33m)\u001b[0m\u001b[1;33m\u001b[0m\u001b[1;33m\u001b[0m\u001b[0m\n\u001b[0;32m      5\u001b[0m     \u001b[1;32mreturn\u001b[0m \u001b[0mdt\u001b[0m\u001b[1;33m.\u001b[0m\u001b[0mstrftime\u001b[0m\u001b[1;33m(\u001b[0m\u001b[1;34m'%s'\u001b[0m\u001b[1;33m)\u001b[0m\u001b[1;33m\u001b[0m\u001b[1;33m\u001b[0m\u001b[0m\n\u001b[1;32m----> 6\u001b[1;33m \u001b[0mdf\u001b[0m\u001b[1;33m.\u001b[0m\u001b[0mtimestamp\u001b[0m \u001b[1;33m=\u001b[0m \u001b[1;33m[\u001b[0m\u001b[0mto_timestamp\u001b[0m\u001b[1;33m(\u001b[0m\u001b[0mt\u001b[0m\u001b[1;33m)\u001b[0m \u001b[1;32mfor\u001b[0m \u001b[0mt\u001b[0m \u001b[1;32min\u001b[0m \u001b[0mdf\u001b[0m\u001b[1;33m.\u001b[0m\u001b[0mtimestamp\u001b[0m\u001b[1;33m.\u001b[0m\u001b[0mvalues\u001b[0m\u001b[1;33m]\u001b[0m\u001b[1;33m\u001b[0m\u001b[1;33m\u001b[0m\u001b[0m\n\u001b[0m\u001b[0;32m      7\u001b[0m \u001b[1;33m\u001b[0m\u001b[0m\n\u001b[0;32m      8\u001b[0m \u001b[0mset\u001b[0m\u001b[1;33m(\u001b[0m\u001b[0mdf\u001b[0m\u001b[1;33m.\u001b[0m\u001b[0moutcome\u001b[0m\u001b[1;33m)\u001b[0m\u001b[1;33m\u001b[0m\u001b[1;33m\u001b[0m\u001b[0m\n",
      "\u001b[1;32m<ipython-input-165-bb26cb6bff9a>\u001b[0m in \u001b[0;36m<listcomp>\u001b[1;34m(.0)\u001b[0m\n\u001b[0;32m      4\u001b[0m     \u001b[0mprint\u001b[0m\u001b[1;33m(\u001b[0m\u001b[0mt\u001b[0m\u001b[1;33m,\u001b[0m \u001b[0mdt\u001b[0m\u001b[1;33m)\u001b[0m\u001b[1;33m\u001b[0m\u001b[1;33m\u001b[0m\u001b[0m\n\u001b[0;32m      5\u001b[0m     \u001b[1;32mreturn\u001b[0m \u001b[0mdt\u001b[0m\u001b[1;33m.\u001b[0m\u001b[0mstrftime\u001b[0m\u001b[1;33m(\u001b[0m\u001b[1;34m'%s'\u001b[0m\u001b[1;33m)\u001b[0m\u001b[1;33m\u001b[0m\u001b[1;33m\u001b[0m\u001b[0m\n\u001b[1;32m----> 6\u001b[1;33m \u001b[0mdf\u001b[0m\u001b[1;33m.\u001b[0m\u001b[0mtimestamp\u001b[0m \u001b[1;33m=\u001b[0m \u001b[1;33m[\u001b[0m\u001b[0mto_timestamp\u001b[0m\u001b[1;33m(\u001b[0m\u001b[0mt\u001b[0m\u001b[1;33m)\u001b[0m \u001b[1;32mfor\u001b[0m \u001b[0mt\u001b[0m \u001b[1;32min\u001b[0m \u001b[0mdf\u001b[0m\u001b[1;33m.\u001b[0m\u001b[0mtimestamp\u001b[0m\u001b[1;33m.\u001b[0m\u001b[0mvalues\u001b[0m\u001b[1;33m]\u001b[0m\u001b[1;33m\u001b[0m\u001b[1;33m\u001b[0m\u001b[0m\n\u001b[0m\u001b[0;32m      7\u001b[0m \u001b[1;33m\u001b[0m\u001b[0m\n\u001b[0;32m      8\u001b[0m \u001b[0mset\u001b[0m\u001b[1;33m(\u001b[0m\u001b[0mdf\u001b[0m\u001b[1;33m.\u001b[0m\u001b[0moutcome\u001b[0m\u001b[1;33m)\u001b[0m\u001b[1;33m\u001b[0m\u001b[1;33m\u001b[0m\u001b[0m\n",
      "\u001b[1;32m<ipython-input-165-bb26cb6bff9a>\u001b[0m in \u001b[0;36mto_timestamp\u001b[1;34m(t)\u001b[0m\n\u001b[0;32m      3\u001b[0m     \u001b[0mdt\u001b[0m \u001b[1;33m=\u001b[0m \u001b[0mdatetime\u001b[0m\u001b[1;33m.\u001b[0m\u001b[0mstrptime\u001b[0m\u001b[1;33m(\u001b[0m\u001b[0mt\u001b[0m\u001b[1;33m,\u001b[0m \u001b[1;34m'%m/%d/%Y %H:%M:%S'\u001b[0m\u001b[1;33m)\u001b[0m\u001b[1;33m\u001b[0m\u001b[1;33m\u001b[0m\u001b[0m\n\u001b[0;32m      4\u001b[0m     \u001b[0mprint\u001b[0m\u001b[1;33m(\u001b[0m\u001b[0mt\u001b[0m\u001b[1;33m,\u001b[0m \u001b[0mdt\u001b[0m\u001b[1;33m)\u001b[0m\u001b[1;33m\u001b[0m\u001b[1;33m\u001b[0m\u001b[0m\n\u001b[1;32m----> 5\u001b[1;33m     \u001b[1;32mreturn\u001b[0m \u001b[0mdt\u001b[0m\u001b[1;33m.\u001b[0m\u001b[0mstrftime\u001b[0m\u001b[1;33m(\u001b[0m\u001b[1;34m'%s'\u001b[0m\u001b[1;33m)\u001b[0m\u001b[1;33m\u001b[0m\u001b[1;33m\u001b[0m\u001b[0m\n\u001b[0m\u001b[0;32m      6\u001b[0m \u001b[0mdf\u001b[0m\u001b[1;33m.\u001b[0m\u001b[0mtimestamp\u001b[0m \u001b[1;33m=\u001b[0m \u001b[1;33m[\u001b[0m\u001b[0mto_timestamp\u001b[0m\u001b[1;33m(\u001b[0m\u001b[0mt\u001b[0m\u001b[1;33m)\u001b[0m \u001b[1;32mfor\u001b[0m \u001b[0mt\u001b[0m \u001b[1;32min\u001b[0m \u001b[0mdf\u001b[0m\u001b[1;33m.\u001b[0m\u001b[0mtimestamp\u001b[0m\u001b[1;33m.\u001b[0m\u001b[0mvalues\u001b[0m\u001b[1;33m]\u001b[0m\u001b[1;33m\u001b[0m\u001b[1;33m\u001b[0m\u001b[0m\n\u001b[0;32m      7\u001b[0m \u001b[1;33m\u001b[0m\u001b[0m\n",
      "\u001b[1;31mValueError\u001b[0m: Invalid format string"
     ]
    }
   ],
   "source": [
    "# This was done once on the original dataset. No longer necessary\n",
    "def to_timestamp(t):\n",
    "    dt = datetime.strptime(t, '%m/%d/%Y %H:%M:%S')\n",
    "    return dt.strftime('%s')\n",
    "df.timestamp = [to_timestamp(t) for t in df.timestamp.values]\n",
    "\n",
    "set(df.outcome)\n",
    "renames = {'Big One': 3, 'Regular': 2, 'No Poop': 0}\n",
    "for k, v in renames.items():\n",
    "    df.loc[df.outcome == k, 'outcome'] = v\n"
   ]
  },
  {
   "cell_type": "code",
   "execution_count": null,
   "metadata": {},
   "outputs": [],
   "source": [
    "plt.figure(figsize=(17, 7))\n",
    "plt.plot(df.timestamp, df.can, 'o', alpha=1, label='can')\n",
    "plt.plot(df.timestamp, df.sweet, 'o', alpha=1, label='sweet')\n",
    "plt.plot(df.timestamp, df.golden, 'o', alpha=1, label='golden')\n",
    "plt.plot(df.timestamp, df.outcome, 'o', alpha=1.0, label='outcome')\n",
    "plt.legend()\n",
    "plt.show()\n"
   ]
  },
  {
   "cell_type": "code",
   "execution_count": null,
   "metadata": {},
   "outputs": [],
   "source": [
    "ddf = df.copy()\n",
    "ddf.loc[df.index, 'poop'] = False\n",
    "ddf.loc[df.index, 'feed'] = True\n",
    "ddf.loc[df.outcome >= 0, 'poop'] = True\n",
    "ddf.loc[df.outcome >= 0, 'feed'] = False\n",
    "ddf.loc[df.alone == 'Yes', 'alone'] = True\n",
    "ddf.loc[df.accident == 'Yes', 'accident'] = True\n",
    "df = ddf"
   ]
  },
  {
   "cell_type": "code",
   "execution_count": null,
   "metadata": {},
   "outputs": [],
   "source": [
    "def accumulate_pastdata(df, hours_ago=24, span=3):\n",
    "    x = 0; y = 0\n",
    "    df = df.sort_values(by='timestamp')\n",
    "    for index, row in df.iterrows():\n",
    "        if not row.poop:\n",
    "            continue\n",
    "        dt = datetime.fromtimestamp(row.timestamp)\n",
    "        df.loc[index, 'hour_of_day'] = dt.hour\n",
    "        for h in range(span, hours_ago + span, span):\n",
    "            start = row.timestamp - (h * 3600)\n",
    "            end = row.timestamp - (h - span) * 3600\n",
    "            ddf = df[(df.timestamp > start) & (df.timestamp < end)]\n",
    "            s = ddf.sum()\n",
    "            start_str = h - span\n",
    "            end_str = h\n",
    "            df.loc[index, 'golden_{}_to_{}'.format(start_str, end_str)] = s.golden\n",
    "            df.loc[index, 'can_{}_to_{}'.format(start_str, end_str)] = s.can\n",
    "            df.loc[index, 'sweet_{}_to_{}'.format(start_str, end_str)] = s.sweet\n",
    "            df.loc[index, 'outcome_{}_to_{}'.format(start_str, end_str)] = s.outcome  \n",
    "    return df\n",
    "    \n",
    "\n",
    "ddf = accumulate_pastdata(df.copy())\n",
    "ddf.head()"
   ]
  },
  {
   "cell_type": "code",
   "execution_count": null,
   "metadata": {},
   "outputs": [],
   "source": [
    "ddf.to_csv('Data/Data1.processed.csv')"
   ]
  },
  {
   "cell_type": "code",
   "execution_count": null,
   "metadata": {},
   "outputs": [],
   "source": [
    "plt.figure(figsize=(17, 7))\n",
    "print(ddf.columns)\n",
    "pdf = ddf[ddf.poop == True]\n",
    "plt.plot(pdf.sweet_0_to_3, pdf.outcome, 'o')"
   ]
  },
  {
   "cell_type": "code",
   "execution_count": null,
   "metadata": {},
   "outputs": [],
   "source": [
    "#Build data for classification\n",
    "feature_columns = [c for c in ddf.columns if re.search('_to_',c)] + ['hour_of_day']\n",
    "ddf = ddf[ddf.index >= 8]  # cut out beginning of data set\n",
    "X = ddf.loc[ddf.poop, feature_columns].values\n",
    "Y = (ddf.outcome[ddf.poop].values > 0).astype(np.int)"
   ]
  },
  {
   "cell_type": "code",
   "execution_count": null,
   "metadata": {},
   "outputs": [],
   "source": [
    "#Classifier decision trees\n",
    "clf = RandomForestClassifier(n_estimators=10)\n",
    "clf = clf.fit(X, Y)\n",
    "scores = cross_val_score(clf, X, Y, cv=10)\n",
    "\n",
    "print(\"Machien Score: %.2f Human Score: %.2f\" %(scores.mean() , (np.array(Y).sum()/np.array(Y).shape[0])))"
   ]
  },
  {
   "cell_type": "code",
   "execution_count": null,
   "metadata": {},
   "outputs": [],
   "source": [
    "importances = clf.feature_importances_\n",
    "std = np.std([tree.feature_importances_ for tree in clf.estimators_],\n",
    "             axis=0)\n",
    "indices = np.argsort(importances)[::-1]\n",
    "\n",
    "# Plot the feature importances of the forest\n",
    "display_columns = np.array(feature_columns)\n",
    "fig, ax = plt.subplots(1, 1, figsize=(17, 7))\n",
    "ax.set_title(\"Feature importances\")\n",
    "ax.bar(range(X.shape[1]), importances[indices],\n",
    "       color=\"r\", yerr=std[indices], align=\"center\")\n",
    "ax.set_xticks(range(X.shape[1]))\n",
    "ax.set_xlim([-1, X.shape[1]])\n",
    "ax.set_xticklabels(display_columns[indices])\n",
    "for tick in ax.get_xticklabels():\n",
    "    tick.set_rotation(90)\n",
    "plt.show()\n",
    "\n",
    "# Print the feature ranking\n",
    "print(\"Feature ranking:\")\n",
    "for f in range(X.shape[1]):\n",
    "    print(\"%d. feature %s (%f)\" % (f + 1, display_columns[indices[f]], importances[indices[f]]))"
   ]
  },
  {
   "cell_type": "code",
   "execution_count": null,
   "metadata": {},
   "outputs": [],
   "source": [
    "#Classifier LASSO\n",
    "from sklearn import linear_model\n",
    "lso = linear_model.LogisticRegression(solver='lbfgs')\n",
    "#lso = linear_model.Lasso(alpha=0.01)\n",
    "lso.fit(X, Y)\n",
    "scores = cross_val_score(lso, X, Y, cv=10)\n",
    "\n",
    "print(\"Machien Score: %.2f Human Score: %.2f\" %(scores.mean() , (np.array(Y).sum()/np.array(Y).shape[0])))\n",
    "\n",
    "#Importance\n",
    "tmp = lso.coef_.flatten();\n",
    "indices = np.argsort(np.abs(tmp))[::-1].flatten()\n",
    "for f in range(len(indices)):\n",
    "    print(\"%d. feature %s (%f, %f)\" % (f + 1, display_columns[indices[f]], (tmp[indices[f]])**2, \n",
    "          tmp[indices[f]]))\n"
   ]
  },
  {
   "cell_type": "code",
   "execution_count": null,
   "metadata": {},
   "outputs": [],
   "source": [
    "v=np.vstack([np.array(clf.predict(X)), np.array(lso.predict(X)), np.array(Y)])\n",
    "print(v.T)"
   ]
  },
  {
   "cell_type": "code",
   "execution_count": null,
   "metadata": {},
   "outputs": [],
   "source": [
    "\n"
   ]
  }
 ],
 "metadata": {
  "kernelspec": {
   "display_name": "Python 3",
   "language": "python",
   "name": "python3"
  },
  "language_info": {
   "codemirror_mode": {
    "name": "ipython",
    "version": 3
   },
   "file_extension": ".py",
   "mimetype": "text/x-python",
   "name": "python",
   "nbconvert_exporter": "python",
   "pygments_lexer": "ipython3",
   "version": "3.7.1"
  }
 },
 "nbformat": 4,
 "nbformat_minor": 2
}
