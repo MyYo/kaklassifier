{
 "cells": [
  {
   "cell_type": "code",
   "execution_count": 16,
   "metadata": {},
   "outputs": [],
   "source": [
    "from datetime import datetime, timedelta\n",
    "from matplotlib import pyplot as plt\n",
    "import numpy as np\n",
    "import pandas as pd\n",
    "import os\n",
    "import re\n",
    "import numpy as np\n",
    "from sklearn.ensemble import RandomForestClassifier\n",
    "from sklearn.model_selection import cross_val_score"
   ]
  },
  {
   "cell_type": "code",
   "execution_count": 17,
   "metadata": {},
   "outputs": [
    {
     "data": {
      "text/html": [
       "<div>\n",
       "<style scoped>\n",
       "    .dataframe tbody tr th:only-of-type {\n",
       "        vertical-align: middle;\n",
       "    }\n",
       "\n",
       "    .dataframe tbody tr th {\n",
       "        vertical-align: top;\n",
       "    }\n",
       "\n",
       "    .dataframe thead th {\n",
       "        text-align: right;\n",
       "    }\n",
       "</style>\n",
       "<table border=\"1\" class=\"dataframe\">\n",
       "  <thead>\n",
       "    <tr style=\"text-align: right;\">\n",
       "      <th></th>\n",
       "      <th>timestamp</th>\n",
       "      <th>can</th>\n",
       "      <th>sweet</th>\n",
       "      <th>golden</th>\n",
       "      <th>outcome</th>\n",
       "      <th>alone</th>\n",
       "      <th>accident</th>\n",
       "      <th>notes</th>\n",
       "      <th>poop</th>\n",
       "      <th>feed</th>\n",
       "    </tr>\n",
       "  </thead>\n",
       "  <tbody>\n",
       "    <tr>\n",
       "      <th>0</th>\n",
       "      <td>1545929878</td>\n",
       "      <td>2.0</td>\n",
       "      <td>1.0</td>\n",
       "      <td>1.0</td>\n",
       "      <td>NaN</td>\n",
       "      <td>NaN</td>\n",
       "      <td>NaN</td>\n",
       "      <td>NaN</td>\n",
       "      <td>False</td>\n",
       "      <td>True</td>\n",
       "    </tr>\n",
       "    <tr>\n",
       "      <th>1</th>\n",
       "      <td>1545930646</td>\n",
       "      <td>NaN</td>\n",
       "      <td>NaN</td>\n",
       "      <td>NaN</td>\n",
       "      <td>2.0</td>\n",
       "      <td>NaN</td>\n",
       "      <td>NaN</td>\n",
       "      <td>Outside</td>\n",
       "      <td>True</td>\n",
       "      <td>False</td>\n",
       "    </tr>\n",
       "    <tr>\n",
       "      <th>2</th>\n",
       "      <td>1545943282</td>\n",
       "      <td>2.0</td>\n",
       "      <td>1.0</td>\n",
       "      <td>1.0</td>\n",
       "      <td>NaN</td>\n",
       "      <td>NaN</td>\n",
       "      <td>NaN</td>\n",
       "      <td>NaN</td>\n",
       "      <td>False</td>\n",
       "      <td>True</td>\n",
       "    </tr>\n",
       "    <tr>\n",
       "      <th>3</th>\n",
       "      <td>1545948608</td>\n",
       "      <td>NaN</td>\n",
       "      <td>NaN</td>\n",
       "      <td>NaN</td>\n",
       "      <td>2.0</td>\n",
       "      <td>NaN</td>\n",
       "      <td>NaN</td>\n",
       "      <td>Outside</td>\n",
       "      <td>True</td>\n",
       "      <td>False</td>\n",
       "    </tr>\n",
       "    <tr>\n",
       "      <th>4</th>\n",
       "      <td>1545948875</td>\n",
       "      <td>NaN</td>\n",
       "      <td>NaN</td>\n",
       "      <td>NaN</td>\n",
       "      <td>NaN</td>\n",
       "      <td>NaN</td>\n",
       "      <td>NaN</td>\n",
       "      <td>Jake got 2 gabapentin at lunch and 2 at 2pm. O...</td>\n",
       "      <td>False</td>\n",
       "      <td>True</td>\n",
       "    </tr>\n",
       "  </tbody>\n",
       "</table>\n",
       "</div>"
      ],
      "text/plain": [
       "    timestamp  can  sweet  golden  outcome alone accident  \\\n",
       "0  1545929878  2.0    1.0     1.0      NaN   NaN      NaN   \n",
       "1  1545930646  NaN    NaN     NaN      2.0   NaN      NaN   \n",
       "2  1545943282  2.0    1.0     1.0      NaN   NaN      NaN   \n",
       "3  1545948608  NaN    NaN     NaN      2.0   NaN      NaN   \n",
       "4  1545948875  NaN    NaN     NaN      NaN   NaN      NaN   \n",
       "\n",
       "                                               notes   poop   feed  \n",
       "0                                                NaN  False   True  \n",
       "1                                           Outside    True  False  \n",
       "2                                                NaN  False   True  \n",
       "3                                           Outside    True  False  \n",
       "4  Jake got 2 gabapentin at lunch and 2 at 2pm. O...  False   True  "
      ]
     },
     "execution_count": 17,
     "metadata": {},
     "output_type": "execute_result"
    }
   ],
   "source": [
    "data_path = os.path.expanduser('Data/Data1.csv')\n",
    "df = pd.read_csv(data_path, comment='#')\n",
    "df.rename(columns={\n",
    "    'Timestamp': 'timestamp',\n",
    "    'Royal Canin Lowfat Can (13.6oz)': 'can',\n",
    "    'Sweet Potato (11.5oz)': 'sweet',\n",
    "    'Golden Potato (5.2oz)': 'golden',\n",
    "    'Outcome': 'outcome',\n",
    "    'Were We Sleeping / Jake Was Alone Just Before': 'alone',\n",
    "    'Was it an Accident?': 'accident',\n",
    "    'Notes': 'notes',\n",
    "    'Poop Event': 'poop',\n",
    "    'Feed Event': 'feed'\n",
    "}, inplace=True)\n",
    "df.head()"
   ]
  },
  {
   "cell_type": "code",
   "execution_count": 18,
   "metadata": {},
   "outputs": [],
   "source": [
    "# This was done once on the original dataset. No longer necessary\n",
    "# def to_timestamp(t):\n",
    "#     dt = datetime.strptime(t, '%m/%d/%Y %H:%M:%S')\n",
    "#     return dt.strftime('%s')\n",
    "# df.timestamp = [to_timestamp(t) for t in df.timestamp.values]\n",
    "\n",
    "# set(df.outcome)\n",
    "# renames = {'Big One': 3, 'Regular': 2, 'No Poop': 0}\n",
    "# for k, v in renames.items():\n",
    "#     df.loc[df.outcome == k, 'outcome'] = v\n"
   ]
  },
  {
   "cell_type": "code",
   "execution_count": 19,
   "metadata": {},
   "outputs": [
    {
     "data": {
      "image/png": "[encoded data removed]",
      "text/plain": [
       "<Figure size 1224x504 with 1 Axes>"
      ]
     },
     "metadata": {
      "needs_background": "light"
     },
     "output_type": "display_data"
    }
   ],
   "source": [
    "plt.figure(figsize=(17, 7))\n",
    "plt.plot(df.timestamp, df.can, 'o', alpha=1, label='can')\n",
    "plt.plot(df.timestamp, df.sweet, 'o', alpha=1, label='sweet')\n",
    "plt.plot(df.timestamp, df.golden, 'o', alpha=1, label='golden')\n",
    "plt.plot(df.timestamp, df.outcome, 'o', alpha=1.0, label='outcome')\n",
    "plt.legend()\n",
    "plt.show()\n"
   ]
  },
  {
   "cell_type": "code",
   "execution_count": 20,
   "metadata": {},
   "outputs": [],
   "source": [
    "ddf = df.copy()\n",
    "ddf.loc[df.index, 'poop'] = False\n",
    "ddf.loc[df.index, 'feed'] = True\n",
    "ddf.loc[df.outcome >= 0, 'poop'] = True\n",
    "ddf.loc[df.outcome >= 0, 'feed'] = False\n",
    "ddf.loc[df.alone == 'Yes', 'alone'] = True\n",
    "ddf.loc[df.accident == 'Yes', 'accident'] = True\n",
    "df = ddf"
   ]
  },
  {
   "cell_type": "code",
   "execution_count": 21,
   "metadata": {},
   "outputs": [
    {
     "data": {
      "text/html": [
       "<div>\n",
       "<style scoped>\n",
       "    .dataframe tbody tr th:only-of-type {\n",
       "        vertical-align: middle;\n",
       "    }\n",
       "\n",
       "    .dataframe tbody tr th {\n",
       "        vertical-align: top;\n",
       "    }\n",
       "\n",
       "    .dataframe thead th {\n",
       "        text-align: right;\n",
       "    }\n",
       "</style>\n",
       "<table border=\"1\" class=\"dataframe\">\n",
       "  <thead>\n",
       "    <tr style=\"text-align: right;\">\n",
       "      <th></th>\n",
       "      <th>timestamp</th>\n",
       "      <th>can</th>\n",
       "      <th>sweet</th>\n",
       "      <th>golden</th>\n",
       "      <th>outcome</th>\n",
       "      <th>alone</th>\n",
       "      <th>accident</th>\n",
       "      <th>notes</th>\n",
       "      <th>poop</th>\n",
       "      <th>feed</th>\n",
       "      <th>...</th>\n",
       "      <th>sweet_15_to_18</th>\n",
       "      <th>outcome_15_to_18</th>\n",
       "      <th>golden_18_to_21</th>\n",
       "      <th>can_18_to_21</th>\n",
       "      <th>sweet_18_to_21</th>\n",
       "      <th>outcome_18_to_21</th>\n",
       "      <th>golden_21_to_24</th>\n",
       "      <th>can_21_to_24</th>\n",
       "      <th>sweet_21_to_24</th>\n",
       "      <th>outcome_21_to_24</th>\n",
       "    </tr>\n",
       "  </thead>\n",
       "  <tbody>\n",
       "    <tr>\n",
       "      <th>0</th>\n",
       "      <td>1545929878</td>\n",
       "      <td>2.0</td>\n",
       "      <td>1.0</td>\n",
       "      <td>1.0</td>\n",
       "      <td>NaN</td>\n",
       "      <td>NaN</td>\n",
       "      <td>NaN</td>\n",
       "      <td>NaN</td>\n",
       "      <td>False</td>\n",
       "      <td>True</td>\n",
       "      <td>...</td>\n",
       "      <td>NaN</td>\n",
       "      <td>NaN</td>\n",
       "      <td>NaN</td>\n",
       "      <td>NaN</td>\n",
       "      <td>NaN</td>\n",
       "      <td>NaN</td>\n",
       "      <td>NaN</td>\n",
       "      <td>NaN</td>\n",
       "      <td>NaN</td>\n",
       "      <td>NaN</td>\n",
       "    </tr>\n",
       "    <tr>\n",
       "      <th>1</th>\n",
       "      <td>1545930646</td>\n",
       "      <td>NaN</td>\n",
       "      <td>NaN</td>\n",
       "      <td>NaN</td>\n",
       "      <td>2.0</td>\n",
       "      <td>NaN</td>\n",
       "      <td>NaN</td>\n",
       "      <td>Outside</td>\n",
       "      <td>True</td>\n",
       "      <td>False</td>\n",
       "      <td>...</td>\n",
       "      <td>0.0</td>\n",
       "      <td>0.0</td>\n",
       "      <td>0.0</td>\n",
       "      <td>0.0</td>\n",
       "      <td>0.0</td>\n",
       "      <td>0.0</td>\n",
       "      <td>0.0</td>\n",
       "      <td>0.0</td>\n",
       "      <td>0.0</td>\n",
       "      <td>0.0</td>\n",
       "    </tr>\n",
       "    <tr>\n",
       "      <th>2</th>\n",
       "      <td>1545943282</td>\n",
       "      <td>2.0</td>\n",
       "      <td>1.0</td>\n",
       "      <td>1.0</td>\n",
       "      <td>NaN</td>\n",
       "      <td>NaN</td>\n",
       "      <td>NaN</td>\n",
       "      <td>NaN</td>\n",
       "      <td>False</td>\n",
       "      <td>True</td>\n",
       "      <td>...</td>\n",
       "      <td>NaN</td>\n",
       "      <td>NaN</td>\n",
       "      <td>NaN</td>\n",
       "      <td>NaN</td>\n",
       "      <td>NaN</td>\n",
       "      <td>NaN</td>\n",
       "      <td>NaN</td>\n",
       "      <td>NaN</td>\n",
       "      <td>NaN</td>\n",
       "      <td>NaN</td>\n",
       "    </tr>\n",
       "    <tr>\n",
       "      <th>3</th>\n",
       "      <td>1545948608</td>\n",
       "      <td>NaN</td>\n",
       "      <td>NaN</td>\n",
       "      <td>NaN</td>\n",
       "      <td>2.0</td>\n",
       "      <td>NaN</td>\n",
       "      <td>NaN</td>\n",
       "      <td>Outside</td>\n",
       "      <td>True</td>\n",
       "      <td>False</td>\n",
       "      <td>...</td>\n",
       "      <td>0.0</td>\n",
       "      <td>0.0</td>\n",
       "      <td>0.0</td>\n",
       "      <td>0.0</td>\n",
       "      <td>0.0</td>\n",
       "      <td>0.0</td>\n",
       "      <td>0.0</td>\n",
       "      <td>0.0</td>\n",
       "      <td>0.0</td>\n",
       "      <td>0.0</td>\n",
       "    </tr>\n",
       "    <tr>\n",
       "      <th>4</th>\n",
       "      <td>1545948875</td>\n",
       "      <td>NaN</td>\n",
       "      <td>NaN</td>\n",
       "      <td>NaN</td>\n",
       "      <td>NaN</td>\n",
       "      <td>NaN</td>\n",
       "      <td>NaN</td>\n",
       "      <td>Jake got 2 gabapentin at lunch and 2 at 2pm. O...</td>\n",
       "      <td>False</td>\n",
       "      <td>True</td>\n",
       "      <td>...</td>\n",
       "      <td>NaN</td>\n",
       "      <td>NaN</td>\n",
       "      <td>NaN</td>\n",
       "      <td>NaN</td>\n",
       "      <td>NaN</td>\n",
       "      <td>NaN</td>\n",
       "      <td>NaN</td>\n",
       "      <td>NaN</td>\n",
       "      <td>NaN</td>\n",
       "      <td>NaN</td>\n",
       "    </tr>\n",
       "  </tbody>\n",
       "</table>\n",
       "<p>5 rows × 43 columns</p>\n",
       "</div>"
      ],
      "text/plain": [
       "    timestamp  can  sweet  golden  outcome alone accident  \\\n",
       "0  1545929878  2.0    1.0     1.0      NaN   NaN      NaN   \n",
       "1  1545930646  NaN    NaN     NaN      2.0   NaN      NaN   \n",
       "2  1545943282  2.0    1.0     1.0      NaN   NaN      NaN   \n",
       "3  1545948608  NaN    NaN     NaN      2.0   NaN      NaN   \n",
       "4  1545948875  NaN    NaN     NaN      NaN   NaN      NaN   \n",
       "\n",
       "                                               notes   poop   feed  \\\n",
       "0                                                NaN  False   True   \n",
       "1                                           Outside    True  False   \n",
       "2                                                NaN  False   True   \n",
       "3                                           Outside    True  False   \n",
       "4  Jake got 2 gabapentin at lunch and 2 at 2pm. O...  False   True   \n",
       "\n",
       "         ...         sweet_15_to_18  outcome_15_to_18  golden_18_to_21  \\\n",
       "0        ...                    NaN               NaN              NaN   \n",
       "1        ...                    0.0               0.0              0.0   \n",
       "2        ...                    NaN               NaN              NaN   \n",
       "3        ...                    0.0               0.0              0.0   \n",
       "4        ...                    NaN               NaN              NaN   \n",
       "\n",
       "   can_18_to_21  sweet_18_to_21  outcome_18_to_21  golden_21_to_24  \\\n",
       "0           NaN             NaN               NaN              NaN   \n",
       "1           0.0             0.0               0.0              0.0   \n",
       "2           NaN             NaN               NaN              NaN   \n",
       "3           0.0             0.0               0.0              0.0   \n",
       "4           NaN             NaN               NaN              NaN   \n",
       "\n",
       "   can_21_to_24  sweet_21_to_24  outcome_21_to_24  \n",
       "0           NaN             NaN               NaN  \n",
       "1           0.0             0.0               0.0  \n",
       "2           NaN             NaN               NaN  \n",
       "3           0.0             0.0               0.0  \n",
       "4           NaN             NaN               NaN  \n",
       "\n",
       "[5 rows x 43 columns]"
      ]
     },
     "execution_count": 21,
     "metadata": {},
     "output_type": "execute_result"
    }
   ],
   "source": [
    "def accumulate_pastdata(df, hours_ago=24, span=3):\n",
    "    x = 0; y = 0\n",
    "    df = df.sort_values(by='timestamp')\n",
    "    for index, row in df.iterrows():\n",
    "        if not row.poop:\n",
    "            continue\n",
    "        dt = datetime.fromtimestamp(row.timestamp)\n",
    "        df.loc[index, 'hour_of_day'] = dt.hour\n",
    "        for h in range(span, hours_ago + span, span):\n",
    "            start = row.timestamp - (h * 3600)\n",
    "            end = row.timestamp - (h - span) * 3600\n",
    "            ddf = df[(df.timestamp > start) & (df.timestamp < end)]\n",
    "            s = ddf.sum()\n",
    "            start_str = h - span\n",
    "            end_str = h\n",
    "            df.loc[index, 'golden_{}_to_{}'.format(start_str, end_str)] = s.golden\n",
    "            df.loc[index, 'can_{}_to_{}'.format(start_str, end_str)] = s.can\n",
    "            df.loc[index, 'sweet_{}_to_{}'.format(start_str, end_str)] = s.sweet\n",
    "            df.loc[index, 'outcome_{}_to_{}'.format(start_str, end_str)] = s.outcome  \n",
    "    return df\n",
    "    \n",
    "\n",
    "ddf = accumulate_pastdata(df.copy())\n",
    "ddf.head()"
   ]
  },
  {
   "cell_type": "code",
   "execution_count": null,
   "metadata": {},
   "outputs": [],
   "source": [
    "ddf.to_csv('Data/Data1.processed.csv')"
   ]
  },
  {
   "cell_type": "code",
   "execution_count": 25,
   "metadata": {},
   "outputs": [
    {
     "name": "stdout",
     "output_type": "stream",
     "text": [
      "Index(['timestamp', 'can', 'sweet', 'golden', 'outcome', 'alone', 'accident',\n",
      "       'notes', 'poop', 'feed', 'hour_of_day', 'golden_0_to_3', 'can_0_to_3',\n",
      "       'sweet_0_to_3', 'outcome_0_to_3', 'golden_3_to_6', 'can_3_to_6',\n",
      "       'sweet_3_to_6', 'outcome_3_to_6', 'golden_6_to_9', 'can_6_to_9',\n",
      "       'sweet_6_to_9', 'outcome_6_to_9', 'golden_9_to_12', 'can_9_to_12',\n",
      "       'sweet_9_to_12', 'outcome_9_to_12', 'golden_12_to_15', 'can_12_to_15',\n",
      "       'sweet_12_to_15', 'outcome_12_to_15', 'golden_15_to_18', 'can_15_to_18',\n",
      "       'sweet_15_to_18', 'outcome_15_to_18', 'golden_18_to_21', 'can_18_to_21',\n",
      "       'sweet_18_to_21', 'outcome_18_to_21', 'golden_21_to_24', 'can_21_to_24',\n",
      "       'sweet_21_to_24', 'outcome_21_to_24'],\n",
      "      dtype='object')\n"
     ]
    },
    {
     "data": {
      "text/plain": [
       "[<matplotlib.lines.Line2D at 0x234ea4855c0>]"
      ]
     },
     "execution_count": 25,
     "metadata": {},
     "output_type": "execute_result"
    },
    {
     "data": {
      "image/png": "[encoded data removed]",
      "text/plain": [
       "<Figure size 1224x504 with 1 Axes>"
      ]
     },
     "metadata": {
      "needs_background": "light"
     },
     "output_type": "display_data"
    }
   ],
   "source": [
    "plt.figure(figsize=(17, 7))\n",
    "print(ddf.columns)\n",
    "pdf = ddf[ddf.poop == True]\n",
    "plt.plot(pdf.sweet_0_to_3, pdf.outcome, 'o')"
   ]
  },
  {
   "cell_type": "code",
   "execution_count": 38,
   "metadata": {},
   "outputs": [
    {
     "data": {
      "text/plain": [
       "0.675"
      ]
     },
     "execution_count": 38,
     "metadata": {},
     "output_type": "execute_result"
    }
   ],
   "source": [
    "#Classifier\n",
    "\n",
    "feature_columns = [c for c in ddf.columns if re.search('_to_',c)] + ['hour_of_day']\n",
    "ddf = ddf[ddf.index >= 8]  # cut out beginning of data set\n",
    "X = ddf.loc[ddf.poop, feature_columns].values\n",
    "Y = ddf.outcome[ddf.poop].values > 0\n",
    "clf = RandomForestClassifier(n_estimators=20)\n",
    "clf = clf.fit(X, Y)\n",
    "scores = cross_val_score(clf, X, Y, cv=10)\n",
    "\n",
    "scores.mean()"
   ]
  },
  {
   "cell_type": "code",
   "execution_count": 39,
   "metadata": {},
   "outputs": [
    {
     "data": {
      "image/png": "[encoded data removed]",
      "text/plain": [
       "<Figure size 1224x504 with 1 Axes>"
      ]
     },
     "metadata": {
      "needs_background": "light"
     },
     "output_type": "display_data"
    },
    {
     "name": "stdout",
     "output_type": "stream",
     "text": [
      "Feature ranking:\n",
      "1. feature hour_of_day (0.122955)\n",
      "2. feature sweet_6_to_9 (0.118816)\n",
      "3. feature outcome_0_to_3 (0.077413)\n",
      "4. feature outcome_6_to_9 (0.066924)\n",
      "5. feature golden_6_to_9 (0.053692)\n",
      "6. feature can_21_to_24 (0.044736)\n",
      "7. feature outcome_21_to_24 (0.042272)\n",
      "8. feature outcome_3_to_6 (0.041321)\n",
      "9. feature outcome_12_to_15 (0.041025)\n",
      "10. feature outcome_18_to_21 (0.040249)\n",
      "11. feature outcome_15_to_18 (0.037035)\n",
      "12. feature sweet_3_to_6 (0.032616)\n",
      "13. feature outcome_9_to_12 (0.030070)\n",
      "14. feature can_6_to_9 (0.028155)\n",
      "15. feature sweet_12_to_15 (0.027186)\n",
      "16. feature can_3_to_6 (0.025587)\n",
      "17. feature can_12_to_15 (0.018603)\n",
      "18. feature can_15_to_18 (0.017363)\n",
      "19. feature golden_0_to_3 (0.016817)\n",
      "20. feature sweet_15_to_18 (0.014687)\n",
      "21. feature sweet_0_to_3 (0.014460)\n",
      "22. feature golden_3_to_6 (0.012545)\n",
      "23. feature golden_18_to_21 (0.011575)\n",
      "24. feature sweet_21_to_24 (0.010340)\n",
      "25. feature can_9_to_12 (0.010065)\n",
      "26. feature can_0_to_3 (0.009035)\n",
      "27. feature golden_21_to_24 (0.008052)\n",
      "28. feature golden_12_to_15 (0.008025)\n",
      "29. feature can_18_to_21 (0.005334)\n",
      "30. feature golden_9_to_12 (0.004152)\n",
      "31. feature golden_15_to_18 (0.003396)\n",
      "32. feature sweet_18_to_21 (0.002808)\n",
      "33. feature sweet_9_to_12 (0.002691)\n"
     ]
    }
   ],
   "source": [
    "importances = clf.feature_importances_\n",
    "std = np.std([tree.feature_importances_ for tree in clf.estimators_],\n",
    "             axis=0)\n",
    "indices = np.argsort(importances)[::-1]\n",
    "\n",
    "# Plot the feature importances of the forest\n",
    "display_columns = np.array(feature_columns)\n",
    "fig, ax = plt.subplots(1, 1, figsize=(17, 7))\n",
    "ax.set_title(\"Feature importances\")\n",
    "ax.bar(range(X.shape[1]), importances[indices],\n",
    "       color=\"r\", yerr=std[indices], align=\"center\")\n",
    "ax.set_xticks(range(X.shape[1]))\n",
    "ax.set_xlim([-1, X.shape[1]])\n",
    "ax.set_xticklabels(display_columns[indices])\n",
    "for tick in ax.get_xticklabels():\n",
    "    tick.set_rotation(90)\n",
    "plt.show()\n",
    "\n",
    "# Print the feature ranking\n",
    "print(\"Feature ranking:\")\n",
    "for f in range(X.shape[1]):\n",
    "    print(\"%d. feature %s (%f)\" % (f + 1, display_columns[indices[f]], importances[indices[f]]))"
   ]
  },
  {
   "cell_type": "code",
   "execution_count": 41,
   "metadata": {},
   "outputs": [
    {
     "data": {
      "text/plain": [
       "<bound method ForestClassifier.predict of RandomForestClassifier(bootstrap=True, class_weight=None, criterion='gini',\n",
       "            max_depth=None, max_features='auto', max_leaf_nodes=None,\n",
       "            min_impurity_decrease=0.0, min_impurity_split=None,\n",
       "            min_samples_leaf=1, min_samples_split=2,\n",
       "            min_weight_fraction_leaf=0.0, n_estimators=20, n_jobs=None,\n",
       "            oob_score=False, random_state=None, verbose=0,\n",
       "            warm_start=False)>"
      ]
     },
     "execution_count": 41,
     "metadata": {},
     "output_type": "execute_result"
    }
   ],
   "source": [
    "clf.predict"
   ]
  },
  {
   "cell_type": "code",
   "execution_count": null,
   "metadata": {},
   "outputs": [],
   "source": [
    "ddf.columns"
   ]
  }
 ],
 "metadata": {
  "kernelspec": {
   "display_name": "Python 3",
   "language": "python",
   "name": "python3"
  },
  "language_info": {
   "codemirror_mode": {
    "name": "ipython",
    "version": 3
   },
   "file_extension": ".py",
   "mimetype": "text/x-python",
   "name": "python",
   "nbconvert_exporter": "python",
   "pygments_lexer": "ipython3",
   "version": "3.7.1"
  }
 },
 "nbformat": 4,
 "nbformat_minor": 2
}
