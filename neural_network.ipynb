{
 "cells": [
  {
   "cell_type": "code",
   "execution_count": 43,
   "metadata": {},
   "outputs": [
    {
     "name": "stdout",
     "output_type": "stream",
     "text": [
      "The autoreload extension is already loaded. To reload it, use:\n",
      "  %reload_ext autoreload\n"
     ]
    }
   ],
   "source": [
    "%load_ext autoreload\n",
    "%autoreload 2\n",
    "\n",
    "import preprocess\n",
    "import numpy as np\n",
    "import tensorflow as tf\n",
    "from tensorflow.keras import layers"
   ]
  },
  {
   "cell_type": "code",
   "execution_count": 28,
   "metadata": {},
   "outputs": [],
   "source": [
    "X, y, _ = preprocess.load_data()b"
   ]
  },
  {
   "cell_type": "code",
   "execution_count": 44,
   "metadata": {},
   "outputs": [],
   "source": [
    "model = tf.keras.Sequential()\n",
    "model.add(layers.Dense(64, activation='relu'))\n",
    "model.add(layers.Dense(64, activation='relu'))\n",
    "model.add(layers.Dense(1, activation='softmax'))\n",
    "\n",
    "model.compile(optimizer=tf.train.AdamOptimizer(0.001),\n",
    "              loss='binary_crossentropy',\n",
    "              metrics=['accuracy'])"
   ]
  },
  {
   "cell_type": "code",
   "execution_count": 45,
   "metadata": {},
   "outputs": [
    {
     "name": "stdout",
     "output_type": "stream",
     "text": [
      "Epoch 1/10\n",
      "38/38 [==============================] - 0s 10ms/step - loss: 5.0344 - acc: 0.6842\n",
      "Epoch 2/10\n",
      "38/38 [==============================] - 0s 190us/step - loss: 5.0344 - acc: 0.6842\n",
      "Epoch 3/10\n",
      "38/38 [==============================] - 0s 217us/step - loss: 5.0344 - acc: 0.6842\n",
      "Epoch 4/10\n",
      "38/38 [==============================] - 0s 129us/step - loss: 5.0344 - acc: 0.6842\n",
      "Epoch 5/10\n",
      "38/38 [==============================] - 0s 160us/step - loss: 5.0344 - acc: 0.6842\n",
      "Epoch 6/10\n",
      "38/38 [==============================] - 0s 214us/step - loss: 5.0344 - acc: 0.6842\n",
      "Epoch 7/10\n",
      "38/38 [==============================] - 0s 138us/step - loss: 5.0344 - acc: 0.6842\n",
      "Epoch 8/10\n",
      "38/38 [==============================] - 0s 140us/step - loss: 5.0344 - acc: 0.6842\n",
      "Epoch 9/10\n",
      "38/38 [==============================] - 0s 134us/step - loss: 5.0344 - acc: 0.6842\n",
      "Epoch 10/10\n",
      "38/38 [==============================] - 0s 146us/step - loss: 5.0344 - acc: 0.6842\n"
     ]
    }
   ],
   "source": [
    "results = model.fit(X, y, epochs=10,\n",
    "#                   validation_data=(X_val, y_val)\n",
    "                   )"
   ]
  },
  {
   "cell_type": "code",
   "execution_count": 46,
   "metadata": {},
   "outputs": [
    {
     "name": "stdout",
     "output_type": "stream",
     "text": [
      "(38, 1)\n"
     ]
    }
   ],
   "source": [
    "# Evaluate training loss\n",
    "y_bar = model.predict(X).flatten()\n",
    "error = np.sum(y - y_bar)\n",
    "print(error)"
   ]
  },
  {
   "cell_type": "code",
   "execution_count": null,
   "metadata": {},
   "outputs": [],
   "source": []
  }
 ],
 "metadata": {
  "kernelspec": {
   "display_name": "kaklassifier-env",
   "language": "python",
   "name": "kaklassifier-env"
  },
  "language_info": {
   "codemirror_mode": {
    "name": "ipython",
    "version": 3
   },
   "file_extension": ".py",
   "mimetype": "text/x-python",
   "name": "python",
   "nbconvert_exporter": "python",
   "pygments_lexer": "ipython3",
   "version": "3.6.0"
  }
 },
 "nbformat": 4,
 "nbformat_minor": 2
}
